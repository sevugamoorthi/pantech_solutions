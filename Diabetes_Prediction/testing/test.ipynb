{
 "cells": [
  {
   "cell_type": "code",
   "execution_count": 1,
   "id": "3d7d0c28",
   "metadata": {},
   "outputs": [],
   "source": [
    "import pandas as pd\n",
    "from tensorflow.keras.models import model_from_json"
   ]
  },
  {
   "cell_type": "code",
   "execution_count": 2,
   "id": "1b318150",
   "metadata": {},
   "outputs": [
    {
     "name": "stdout",
     "output_type": "stream",
     "text": [
      "Loaded model from disk\n"
     ]
    }
   ],
   "source": [
    "json_file = open('model.json', 'r')\n",
    "loaded_model_json = json_file.read()\n",
    "json_file.close()\n",
    "model = model_from_json(loaded_model_json)\n",
    "model.load_weights(\"model.weights.h5\")\n",
    "print(\"Loaded model from disk\")"
   ]
  },
  {
   "cell_type": "code",
   "execution_count": 3,
   "id": "e1f02e22",
   "metadata": {},
   "outputs": [],
   "source": [
    "while True:\n",
    "    preg = input(\"Enter number of Pregnancies: \")\n",
    "    try:\n",
    "        preg = float(preg)\n",
    "        break  \n",
    "    except ValueError:\n",
    "        print(\"Invalid input. Please enter an integer.\")\n",
    "        continue\n",
    "\n",
    "while True:\n",
    "    glu = input(\"Enter Glucose level: \")\n",
    "    try:\n",
    "        glu = float(glu)\n",
    "        break  \n",
    "    except ValueError:\n",
    "        print(\"Invalid input. Please enter an integer.\")\n",
    "        continue\n",
    "\n",
    "while True:\n",
    "    bp = input(\"Enter Blood Pressure value: \")\n",
    "    try:\n",
    "        bp = float(bp)\n",
    "        break  \n",
    "    except ValueError:\n",
    "        print(\"Invalid input. Please enter an integer.\")\n",
    "        continue\n",
    "\n",
    "while True:\n",
    "    st = input(\"Enter Skin Thickness value: \")\n",
    "    try:\n",
    "        st = float(st)\n",
    "        break  \n",
    "    except ValueError:\n",
    "        print(\"Invalid input. Please enter an integer.\")\n",
    "        continue\n",
    "\n",
    "while True:\n",
    "    ins = input(\"Enter Insulin level: \")\n",
    "    try:\n",
    "        ins = float(ins)\n",
    "        break  \n",
    "    except ValueError:\n",
    "        print(\"Invalid input. Please enter an integer.\")\n",
    "        continue\n",
    "\n",
    "while True:\n",
    "    bmi = input(\"Enter BMI value: \")\n",
    "    try:\n",
    "        bmi = float(bmi)\n",
    "        break  \n",
    "    except ValueError:\n",
    "        print(\"Invalid input. Please enter a number.\")\n",
    "        continue\n",
    "\n",
    "while True:\n",
    "    dpf = input(\"Enter Diabetes Pedigree Function value: \")\n",
    "    try:\n",
    "        dpf = float(dpf)\n",
    "        break  \n",
    "    except ValueError:\n",
    "        print(\"Invalid input. Please enter a number.\")\n",
    "        continue\n",
    "\n",
    "while True:\n",
    "    age = input(\"Enter Age: \")\n",
    "    try:\n",
    "        age = float(age)\n",
    "        break  \n",
    "    except ValueError:\n",
    "        print(\"Invalid input. Please enter an integer.\")\n",
    "        continue\n",
    "        "
   ]
  },
  {
   "cell_type": "code",
   "execution_count": 4,
   "id": "5dce6fa2",
   "metadata": {},
   "outputs": [
    {
     "data": {
      "text/plain": [
       "[[4.0, 150.0, 65.0, 45.0, 95.0, 65.0, 45.0, 32.0]]"
      ]
     },
     "execution_count": 4,
     "metadata": {},
     "output_type": "execute_result"
    }
   ],
   "source": [
    "x = [[preg, glu, bp, st, ins, bmi, dpf, age]]\n",
    "x"
   ]
  },
  {
   "cell_type": "code",
   "execution_count": 5,
   "id": "08d6ef2d",
   "metadata": {},
   "outputs": [
    {
     "name": "stdout",
     "output_type": "stream",
     "text": [
      "\u001b[1m1/1\u001b[0m \u001b[32m━━━━━━━━━━━━━━━━━━━━\u001b[0m\u001b[37m\u001b[0m \u001b[1m0s\u001b[0m 87ms/step\n",
      "Diabetes\n"
     ]
    }
   ],
   "source": [
    "import numpy as np\n",
    "x_input = np.array(x, dtype=np.float32)\n",
    "preds = model.predict(x_input)\n",
    "print(\"Diabetes\" if preds[0][0] > 0.5 else \"No Diabetes\")"
   ]
  }
 ],
 "metadata": {
  "kernelspec": {
   "display_name": "Python 3",
   "language": "python",
   "name": "python3"
  },
  "language_info": {
   "codemirror_mode": {
    "name": "ipython",
    "version": 3
   },
   "file_extension": ".py",
   "mimetype": "text/x-python",
   "name": "python",
   "nbconvert_exporter": "python",
   "pygments_lexer": "ipython3",
   "version": "3.10.11"
  }
 },
 "nbformat": 4,
 "nbformat_minor": 5
}
